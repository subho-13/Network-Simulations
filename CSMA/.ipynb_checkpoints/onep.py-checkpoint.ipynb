{
 "cells": [
  {
   "cell_type": "code",
   "execution_count": 32,
   "metadata": {},
   "outputs": [],
   "source": [
    "import pandas\n",
    "import csv"
   ]
  },
  {
   "cell_type": "code",
   "execution_count": 29,
   "metadata": {},
   "outputs": [],
   "source": [
    "df = pandas.read_csv(\"onep.csv\")"
   ]
  },
  {
   "cell_type": "code",
   "execution_count": 30,
   "metadata": {},
   "outputs": [],
   "source": [
    "summary = {}\n",
    "\n",
    "for index, row in df.iterrows():\n",
    "    if row[\"senders\"] in summary:\n",
    "        summary[row[\"senders\"]][\"throughput\"] += row[\" throughput\"]\n",
    "        summary[row[\"senders\"]][\"efficiency\"] += row[\" efficiency\"]\n",
    "        summary[row[\"senders\"]][\"avgFwdDelay\"] += row[\" avgFwdDelay\"]\n",
    "        summary[row[\"senders\"]][\"count\"] += 1\n",
    "    else:\n",
    "        summary[row[\"senders\"]] = {}\n",
    "        summary[row[\"senders\"]][\"throughput\"] = row[\" throughput\"]\n",
    "        summary[row[\"senders\"]][\"efficiency\"] = row[\" efficiency\"]\n",
    "        summary[row[\"senders\"]][\"avgFwdDelay\"] = row[\" avgFwdDelay\"]\n",
    "        summary[row[\"senders\"]][\"count\"] = 1\n",
    "    \n",
    "for numsenders in summary:\n",
    "    summary[numsenders][\"throughput\"] /= summary[numsenders][\"count\"]\n",
    "    summary[numsenders][\"efficiency\"] /= summary[numsenders][\"count\"]\n",
    "    summary[numsenders][\"avgFwdDelay\"] /= summary[numsenders][\"count\"]\n",
    "\n",
    "writeable_sum = []\n",
    "\n",
    "for numsender in summary:\n",
    "    newlist = []\n",
    "    newlist.append(int(numsender))\n",
    "    newlist.append(summary[numsender][\"throughput\"])\n",
    "    newlist.append(summary[numsender][\"efficiency\"])\n",
    "    newlist.append(summary[numsender][\"avgFwdDelay\"])\n",
    "    writeable_sum.append(newlist)\n",
    "    \n"
   ]
  },
  {
   "cell_type": "code",
   "execution_count": 34,
   "metadata": {},
   "outputs": [],
   "source": [
    "with open('onepavg.csv', 'w+') as f:\n",
    "    csvWriter = csv.writer(f,delimiter=',')\n",
    "    csvWriter.writerows(writeable_sum)"
   ]
  },
  {
   "cell_type": "raw",
   "metadata": {},
   "source": []
  },
  {
   "cell_type": "code",
   "execution_count": 31,
   "metadata": {},
   "outputs": [
    {
     "name": "stdout",
     "output_type": "stream",
     "text": [
      "[[2, 7907135.777777778, 0.9999988888888889, 15417.777777777777], [3, 7241722.5, 0.9999506666666667, 20501.555555555555], [4, 5652072.722222222, 0.9999535555555555, 22189.11111111111], [6, 5562441.6875, 0.99588025, 136461.875], [8, 4127351.375, 0.99436475, 2137653.75], [11, 309492.02050775, 0.9594293749999999, 18868346.0], [14, 29243.040405375, 0.706373875, 44984194.875], [18, 4115.38269075, 0.6056945, 53703512.375], [23, 3450.44119275, 0.62140125, 76316915.5], [29, 3254.5552367500004, 0.6246339999999999, 132996416.125], [37, 3416.2324830000002, 0.625630125, 120793213.0], [47, 3427.6033326249994, 0.6221741249999999, 183492140.25], [59, 7685.560669, 0.638523125, 108940297.5], [74, 12405.28869625, 0.656687875, 82780463.625], [93, 12358.006958124999, 0.6622475, 162884500.5], [117, 13213.062011625001, 0.662489125, 274453228.375], [147, 13767.765503125001, 0.6609645, 247115112.125], [184, 14918.17846675, 0.67417675, 374409716.5]]\n"
     ]
    }
   ],
   "source": [
    "print(writeable_sum)"
   ]
  },
  {
   "cell_type": "code",
   "execution_count": null,
   "metadata": {},
   "outputs": [],
   "source": []
  }
 ],
 "metadata": {
  "kernelspec": {
   "display_name": "Python 3",
   "language": "python",
   "name": "python3"
  },
  "language_info": {
   "codemirror_mode": {
    "name": "ipython",
    "version": 3
   },
   "file_extension": ".py",
   "mimetype": "text/x-python",
   "name": "python",
   "nbconvert_exporter": "python",
   "pygments_lexer": "ipython3",
   "version": "3.8.6"
  }
 },
 "nbformat": 4,
 "nbformat_minor": 4
}
