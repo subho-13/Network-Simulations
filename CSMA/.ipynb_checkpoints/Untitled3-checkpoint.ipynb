{
 "cells": [
  {
   "cell_type": "code",
   "execution_count": null,
   "metadata": {},
   "outputs": [],
   "source": [
    "allFiles = [\"cdma.csv\", \"nonp.csv\",\"onep.csv\", \"pp.csv\"]"
   ]
  },
  {
   "cell_type": "code",
   "execution_count": null,
   "metadata": {},
   "outputs": [],
   "source": [
    "import pandas as pd\n",
    "import seaborn as sns\n",
    "from matplotlib import pyplot as plt"
   ]
  },
  {
   "cell_type": "code",
   "execution_count": null,
   "metadata": {},
   "outputs": [],
   "source": [
    "dims = (10, 10)"
   ]
  },
  {
   "cell_type": "code",
   "execution_count": null,
   "metadata": {},
   "outputs": [],
   "source": [
    "for file in [\"onep.csv\", \"nonp.csv\"]:\n",
    "    df = pd.read_csv(file)\n",
    "    df = df.sort_values(by=['senders', 'throughput', 'efficiency'])\n",
    "    df = df.round(decimals=4)\n",
    "    \n",
    "    for column in ['efficiency', 'avgFwdDelay', 'throughput']:\n",
    "        fig,ax = plt.subplots(figsize=dims)\n",
    "        if column != \"efficiency\":\n",
    "            ax.set(yscale=\"log\")\n",
    "        plot = sns.lineplot(ax=ax, x=\"senders\", y=column, err_style=\"bars\", data=df)\n",
    "        ax.grid(True)\n",
    "        plot.figure.savefig(file+\"_\"+column+\".png\")"
   ]
  },
  {
   "cell_type": "code",
   "execution_count": null,
   "metadata": {},
   "outputs": [],
   "source": [
    "df = pd.read_csv(\"nonp.csv\")\n",
    "df = df.sort_values(by=['senders', 'throughput', 'efficiency'])\n",
    "df = df.round(decimals=4)\n",
    "\n",
    "palette = sns.color_palette(\"Spectral\", as_cmap=True, len(allData.senders.unique()))\n",
    "\n",
    "for column in ['efficiency', 'avgFwdDelay', 'throughput']:\n",
    "    fig,ax = plt.subplots(figsize=dims)\n",
    "    if column != \"efficiency\":\n",
    "        ax.set(yscale=\"log\")\n",
    "    plot = sns.lineplot(ax=ax, x=\"senders\", y=column, err_style=\"bars\", data=df)\n",
    "    ax.grid(True)\n",
    "    plot.figure.savefig(file+\"_\"+column+\".png\")"
   ]
  },
  {
   "cell_type": "code",
   "execution_count": null,
   "metadata": {},
   "outputs": [],
   "source": []
  }
 ],
 "metadata": {
  "kernelspec": {
   "display_name": "Python 3",
   "language": "python",
   "name": "python3"
  },
  "language_info": {
   "codemirror_mode": {
    "name": "ipython",
    "version": 3
   },
   "file_extension": ".py",
   "mimetype": "text/x-python",
   "name": "python",
   "nbconvert_exporter": "python",
   "pygments_lexer": "ipython3",
   "version": "3.8.6"
  }
 },
 "nbformat": 4,
 "nbformat_minor": 4
}
