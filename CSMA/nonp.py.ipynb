{
 "cells": [
  {
   "cell_type": "code",
   "execution_count": 1,
   "metadata": {},
   "outputs": [],
   "source": [
    "import pandas\n",
    "import csv"
   ]
  },
  {
   "cell_type": "code",
   "execution_count": 2,
   "metadata": {},
   "outputs": [],
   "source": [
    "df = pandas.read_csv(\"nonp.csv\")"
   ]
  },
  {
   "cell_type": "code",
   "execution_count": 3,
   "metadata": {},
   "outputs": [],
   "source": [
    "summary = {}\n",
    "\n",
    "for index, row in df.iterrows():\n",
    "    if row[\"senders\"] in summary:\n",
    "        summary[row[\"senders\"]][\"throughput\"] += row[\" throughput\"]\n",
    "        summary[row[\"senders\"]][\"efficiency\"] += row[\" efficiency\"]\n",
    "        summary[row[\"senders\"]][\"avgFwdDelay\"] += row[\" avgFwdDelay\"]\n",
    "        summary[row[\"senders\"]][\"count\"] += 1\n",
    "    else:\n",
    "        summary[row[\"senders\"]] = {}\n",
    "        summary[row[\"senders\"]][\"throughput\"] = row[\" throughput\"]\n",
    "        summary[row[\"senders\"]][\"efficiency\"] = row[\" efficiency\"]\n",
    "        summary[row[\"senders\"]][\"avgFwdDelay\"] = row[\" avgFwdDelay\"]\n",
    "        summary[row[\"senders\"]][\"count\"] = 1\n",
    "    \n",
    "for numsenders in summary:\n",
    "    summary[numsenders][\"throughput\"] /= summary[numsenders][\"count\"]\n",
    "    summary[numsenders][\"efficiency\"] /= summary[numsenders][\"count\"]\n",
    "    summary[numsenders][\"avgFwdDelay\"] /= summary[numsenders][\"count\"]\n",
    "\n",
    "writeable_sum = []\n",
    "\n",
    "for numsender in summary:\n",
    "    newlist = []\n",
    "    newlist.append(int(numsender))\n",
    "    newlist.append(summary[numsender][\"throughput\"])\n",
    "    newlist.append(summary[numsender][\"efficiency\"])\n",
    "    newlist.append(summary[numsender][\"avgFwdDelay\"])\n",
    "    writeable_sum.append(newlist)"
   ]
  },
  {
   "cell_type": "code",
   "execution_count": 4,
   "metadata": {},
   "outputs": [],
   "source": [
    "with open('nonpavg.csv', 'w+') as f:\n",
    "    csvWriter = csv.writer(f,delimiter=',')\n",
    "    csvWriter.writerows(writeable_sum)"
   ]
  },
  {
   "cell_type": "code",
   "execution_count": null,
   "metadata": {},
   "outputs": [],
   "source": []
  }
 ],
 "metadata": {
  "kernelspec": {
   "display_name": "Python 3",
   "language": "python",
   "name": "python3"
  },
  "language_info": {
   "codemirror_mode": {
    "name": "ipython",
    "version": 3
   },
   "file_extension": ".py",
   "mimetype": "text/x-python",
   "name": "python",
   "nbconvert_exporter": "python",
   "pygments_lexer": "ipython3",
   "version": "3.8.6"
  }
 },
 "nbformat": 4,
 "nbformat_minor": 4
}
